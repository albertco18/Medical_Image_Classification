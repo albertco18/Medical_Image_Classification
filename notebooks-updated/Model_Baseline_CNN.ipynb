{
 "cells": [
  {
   "cell_type": "markdown",
   "id": "97a359da",
   "metadata": {},
   "source": [
    "### This notebook only includes the code used to make one of our baseline models\n",
    "The main modeling code can be found in \"Preprocessing_Modeling\" in the same folder\n",
    "\n"
   ]
  },
  {
   "cell_type": "code",
   "execution_count": 2,
   "id": "6918a191",
   "metadata": {},
   "outputs": [],
   "source": [
    "import time\n",
    "import os\n",
    "import copy\n",
    "import numpy as np\n",
    "import pandas as pd\n",
    "import seaborn as sns\n",
    "import matplotlib.pyplot as plt\n",
    "import glob\n",
    "import torch\n",
    "import torch.nn as nn\n",
    "from torch.utils.data import DataLoader\n",
    "import torchvision.models as models\n",
    "import torchvision.datasets as datasets\n",
    "import torchvision.transforms as transforms\n",
    "import shutil\n",
    "import torch.optim as optim\n",
    "from torch.optim import lr_scheduler\n",
    "import torch.backends.cudnn as cudnn\n",
    "import numpy as np\n",
    "import torchvision\n",
    "from torch.autograd import Variable\n",
    "from __future__ import print_function, division\n",
    "\n",
    "cudnn.benchmark = True\n",
    "plt.ion()   # interactive mode\n",
    "import torch.optim as optim\n",
    "import torch.nn.functional as F\n"
   ]
  },
  {
   "cell_type": "code",
   "execution_count": 3,
   "id": "1e5dbb53",
   "metadata": {},
   "outputs": [],
   "source": [
    "from torch.utils.data import ConcatDataset, Subset\n",
    "from torch.utils.data import Dataset, DataLoader, WeightedRandomSampler\n",
    "from torch.utils.data import random_split\n",
    "import math\n",
    "from torchvision.datasets import ImageFolder"
   ]
  },
  {
   "cell_type": "code",
   "execution_count": 4,
   "id": "47a42bd6",
   "metadata": {},
   "outputs": [],
   "source": [
    "from pathlib import Path\n",
    "from collections import Counter"
   ]
  },
  {
   "cell_type": "code",
   "execution_count": 12,
   "id": "a11b5548",
   "metadata": {},
   "outputs": [],
   "source": [
    "from torchsummary import summary"
   ]
  },
  {
   "cell_type": "code",
   "execution_count": 5,
   "id": "f1894ab0",
   "metadata": {},
   "outputs": [],
   "source": [
    "data_dir = Path('../data/chest_xray')\n",
    "train_dir = data_dir / 'train'\n",
    "test_dir = data_dir / 'test'\n",
    "val_dir = data_dir / 'val'"
   ]
  },
  {
   "cell_type": "code",
   "execution_count": 6,
   "id": "b4a1003a",
   "metadata": {},
   "outputs": [],
   "source": [
    "normal_path = train_dir / 'NORMAL'\n",
    "pneumo_path = train_dir / 'PNEUMONIA'"
   ]
  },
  {
   "cell_type": "code",
   "execution_count": 7,
   "id": "ceda685d",
   "metadata": {},
   "outputs": [],
   "source": [
    "data_transforms = {\n",
    "    'train': transforms.Compose([\n",
    "        transforms.Resize((256,256)),\n",
    "        transforms.ToTensor(),\n",
    "        transforms.Normalize([0.485, 0.456, 0.406], [0.229, 0.224, 0.225])\n",
    "    ]),\n",
    "    'test': transforms.Compose([\n",
    "        transforms.Resize((256,256)),\n",
    "        transforms.ToTensor(),\n",
    "        transforms.Normalize([0.485, 0.456, 0.406], [0.229, 0.224, 0.225])\n",
    "    ]),\n",
    "    'val': transforms.Compose([\n",
    "        transforms.Resize((256,256)),\n",
    "        transforms.ToTensor(),\n",
    "        transforms.Normalize([0.485, 0.456, 0.406], [0.229, 0.224, 0.225])\n",
    "    ])\n",
    "}"
   ]
  },
  {
   "cell_type": "code",
   "execution_count": 8,
   "id": "f9e2c3ac",
   "metadata": {},
   "outputs": [],
   "source": [
    "train_data = datasets.ImageFolder(train_dir, transform = data_transforms['train'])\n",
    "test_data = datasets.ImageFolder(test_dir, transform = data_transforms['test'])\n",
    "val_data = datasets.ImageFolder(val_dir,transform = data_transforms['val'])"
   ]
  },
  {
   "cell_type": "code",
   "execution_count": 9,
   "id": "0301e757",
   "metadata": {},
   "outputs": [],
   "source": [
    "trainDL = DataLoader(train_data, batch_size = 16, shuffle = True, num_workers = 6,pin_memory=True)\n",
    "valDL = DataLoader(val_data, batch_size = 16, shuffle = True, num_workers = 6, pin_memory = True)\n",
    "testDL = DataLoader(test_data, batch_size = 16, shuffle = True, num_workers = 6, pin_memory = True)"
   ]
  },
  {
   "cell_type": "code",
   "execution_count": 10,
   "id": "20295af4",
   "metadata": {},
   "outputs": [],
   "source": [
    "dataloaders = {'train': trainDL, 'val':valDL, 'test':testDL}"
   ]
  },
  {
   "cell_type": "code",
   "execution_count": 11,
   "id": "dc242995",
   "metadata": {},
   "outputs": [],
   "source": [
    "for i, (images,labels) in enumerate(trainDL):\n",
    "    if torch.cuda.is_available():\n",
    "        images=Variable(images.cuda())\n",
    "        labels=Variable(labels.cuda())"
   ]
  },
  {
   "cell_type": "code",
   "execution_count": 13,
   "id": "0379111e",
   "metadata": {},
   "outputs": [],
   "source": [
    "#https://pytorch.org/tutorials/beginner/blitz/cifar10_tutorial.html used as a reference\n",
    "\n",
    "class simpleNN(nn.Module):\n",
    "    def __init__(self):\n",
    "        super(simpleNN, self).__init__()\n",
    "        self.conv1 = nn.Conv2d(in_channels = 3, out_channels = 6, kernel_size = 5)\n",
    "        self.pool = nn.MaxPool2d(kernel_size = 2)\n",
    "        self.conv2 = nn.Conv2d(6, 16, 5)\n",
    "        self.fc1 = nn.Linear(16*61*61, 10)\n",
    "        self.fc2 = nn.Linear(10,2)\n",
    "        \n",
    "    def forward(self,x):\n",
    "        x = self.pool(F.relu(self.conv1(x)))\n",
    "        x = self.pool(F.relu(self.conv2(x)))\n",
    "        #print(x.shape)\n",
    "        #x = torch.flatten(x,1)\n",
    "        x= x.view(-1,16*61*61)\n",
    "        x = F.relu(self.fc1(x))\n",
    "        x = F.relu(self.fc2(x))\n",
    "        #x= x.view(-1,32*128*128)\n",
    "        \n",
    "        return x\n"
   ]
  },
  {
   "cell_type": "code",
   "execution_count": 14,
   "id": "b872e258",
   "metadata": {},
   "outputs": [],
   "source": [
    "device = torch.device('cuda' if torch.cuda.is_available() else 'cpu')"
   ]
  },
  {
   "cell_type": "code",
   "execution_count": 15,
   "id": "adf91cc9",
   "metadata": {},
   "outputs": [],
   "source": [
    "model = simpleNN().cuda()"
   ]
  },
  {
   "cell_type": "code",
   "execution_count": 16,
   "id": "ae38e3df",
   "metadata": {},
   "outputs": [
    {
     "name": "stdout",
     "output_type": "stream",
     "text": [
      "----------------------------------------------------------------\n",
      "        Layer (type)               Output Shape         Param #\n",
      "================================================================\n",
      "            Conv2d-1          [-1, 6, 252, 252]             456\n",
      "         MaxPool2d-2          [-1, 6, 126, 126]               0\n",
      "            Conv2d-3         [-1, 16, 122, 122]           2,416\n",
      "         MaxPool2d-4           [-1, 16, 61, 61]               0\n",
      "            Linear-5                   [-1, 10]         595,370\n",
      "            Linear-6                    [-1, 2]              22\n",
      "================================================================\n",
      "Total params: 598,264\n",
      "Trainable params: 598,264\n",
      "Non-trainable params: 0\n",
      "----------------------------------------------------------------\n",
      "Input size (MB): 0.75\n",
      "Forward/backward pass size (MB): 5.90\n",
      "Params size (MB): 2.28\n",
      "Estimated Total Size (MB): 8.94\n",
      "----------------------------------------------------------------\n"
     ]
    }
   ],
   "source": [
    "summary(model,(images.shape[1], images.shape[2], images.shape[3]))"
   ]
  },
  {
   "cell_type": "code",
   "execution_count": 17,
   "id": "97f5511c",
   "metadata": {},
   "outputs": [],
   "source": [
    "#loss function and optimizer\n",
    "criterion = nn.CrossEntropyLoss()\n",
    "optimizer = optim.SGD(model.parameters(), lr=0.001, momentum=0.9)"
   ]
  },
  {
   "cell_type": "code",
   "execution_count": 18,
   "id": "32202542",
   "metadata": {},
   "outputs": [
    {
     "data": {
      "text/plain": [
       "True"
      ]
     },
     "execution_count": 18,
     "metadata": {},
     "output_type": "execute_result"
    }
   ],
   "source": [
    "torch.cuda.is_available()"
   ]
  },
  {
   "cell_type": "code",
   "execution_count": 19,
   "id": "23136780",
   "metadata": {},
   "outputs": [],
   "source": [
    "criterion = criterion.cuda()"
   ]
  },
  {
   "cell_type": "code",
   "execution_count": 21,
   "id": "7e512019",
   "metadata": {},
   "outputs": [],
   "source": [
    "def ez_metrics(model, test_data = test_data):\n",
    "    from sklearn.metrics import classification_report, f1_score\n",
    "    from sklearn.metrics import accuracy_score, confusion_matrix, ConfusionMatrixDisplay\n",
    "\n",
    "    test_load = DataLoader(test_data, batch_size = 1)\n",
    "    y_pred_list = []\n",
    "    y_true_list = []\n",
    "    with torch.no_grad():\n",
    "        for imgs, labels in test_load:\n",
    "            x_batch, y_batch = imgs.to(device), labels.to(device)\n",
    "            y_test_pred = model(x_batch)\n",
    "            y_test_pred = torch.log_softmax(y_test_pred, dim=1)\n",
    "            _, y_pred_tag = torch.max(y_test_pred, dim = 1)\n",
    "            y_pred_list.append(y_pred_tag.cpu().numpy())\n",
    "            y_true_list.append(y_batch.cpu().numpy())\n",
    "    y_pred_list = [i[0] for i in y_pred_list]\n",
    "    y_true_list = [i[0] for i in y_true_list]\n",
    "    print(classification_report(y_true_list, y_pred_list))\n",
    "    print(\"Accuracy Score:  \", accuracy_score(y_true_list, y_pred_list))\n",
    "    print(\"F1 Score:  \", f1_score(y_true_list, y_pred_list))\n",
    "    fig, ax = plt.subplots(figsize=(8,6))\n",
    "    cm = confusion_matrix(y_true_list, y_pred_list)\n",
    "    disp = ConfusionMatrixDisplay(cm, display_labels = [0,1])\n",
    "    disp.plot(ax=ax)  \n",
    "    return y_pred_list, y_true_list"
   ]
  },
  {
   "cell_type": "code",
   "execution_count": 22,
   "id": "75f914ce",
   "metadata": {
    "scrolled": true
   },
   "outputs": [
    {
     "name": "stdout",
     "output_type": "stream",
     "text": [
      "              precision    recall  f1-score   support\n",
      "\n",
      "           0       0.95      0.45      0.61       234\n",
      "           1       0.75      0.99      0.85       390\n",
      "\n",
      "    accuracy                           0.79       624\n",
      "   macro avg       0.85      0.72      0.73       624\n",
      "weighted avg       0.83      0.79      0.76       624\n",
      "\n",
      "Accuracy Score:   0.7868589743589743\n",
      "F1 Score:   0.8527131782945737\n"
     ]
    },
    {
     "data": {
      "image/png": "[encoded data removed]",
      "text/plain": [
       "<Figure size 576x432 with 2 Axes>"
      ]
     },
     "metadata": {
      "needs_background": "light"
     },
     "output_type": "display_data"
    }
   ],
   "source": [
    "y_pred_list, y_true_list = ez_metrics(model, test_data)"
   ]
  },
  {
   "cell_type": "code",
   "execution_count": 155,
   "id": "e2c4004a",
   "metadata": {},
   "outputs": [
    {
     "data": {
      "text/plain": [
       "simpleNN(\n",
       "  (conv1): Conv2d(3, 6, kernel_size=(5, 5), stride=(1, 1))\n",
       "  (pool): MaxPool2d(kernel_size=2, stride=2, padding=0, dilation=1, ceil_mode=False)\n",
       "  (conv2): Conv2d(6, 16, kernel_size=(5, 5), stride=(1, 1))\n",
       "  (fc1): Linear(in_features=59536, out_features=10, bias=True)\n",
       "  (fc2): Linear(in_features=10, out_features=2, bias=True)\n",
       ")"
      ]
     },
     "execution_count": 155,
     "metadata": {},
     "output_type": "execute_result"
    }
   ],
   "source": [
    "model"
   ]
  },
  {
   "cell_type": "code",
   "execution_count": 156,
   "id": "ae358981",
   "metadata": {},
   "outputs": [],
   "source": [
    "#torch.save(model.state_dict(), '../models/baselineCNN')"
   ]
  },
  {
   "cell_type": "markdown",
   "id": "412755cf",
   "metadata": {},
   "source": [
    "References:\n",
    "\n",
    "https://pytorch.org/tutorials/beginner/blitz/cifar10_tutorial.html\n",
    "https://www.kaggle.com/code/fahadmehfoooz/pneumonia-classification-using-pytorch"
   ]
  },
  {
   "cell_type": "code",
   "execution_count": null,
   "id": "f8e09822",
   "metadata": {},
   "outputs": [],
   "source": []
  },
  {
   "cell_type": "code",
   "execution_count": null,
   "id": "6ce6dc31",
   "metadata": {},
   "outputs": [],
   "source": []
  },
  {
   "cell_type": "code",
   "execution_count": null,
   "id": "abf18b7b",
   "metadata": {},
   "outputs": [],
   "source": []
  },
  {
   "cell_type": "code",
   "execution_count": null,
   "id": "9934a460",
   "metadata": {},
   "outputs": [],
   "source": []
  }
 ],
 "metadata": {
  "kernelspec": {
   "display_name": "Python 3",
   "language": "python",
   "name": "python3"
  },
  "language_info": {
   "codemirror_mode": {
    "name": "ipython",
    "version": 3
   },
   "file_extension": ".py",
   "mimetype": "text/x-python",
   "name": "python",
   "nbconvert_exporter": "python",
   "pygments_lexer": "ipython3",
   "version": "3.8.8"
  }
 },
 "nbformat": 4,
 "nbformat_minor": 5
}
